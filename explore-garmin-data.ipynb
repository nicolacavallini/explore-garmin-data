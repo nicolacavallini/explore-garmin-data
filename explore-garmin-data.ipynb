{
 "cells": [
  {
   "cell_type": "code",
   "execution_count": null,
   "metadata": {
    "collapsed": false
   },
   "outputs": [],
   "source": [
    "%matplotlib inline\n",
    "import os\n",
    "from fitparse import FitFile\n",
    "import numpy as np\n",
    "import matplotlib.pyplot as plt\n",
    "\n",
    "import tools"
   ]
  },
  {
   "cell_type": "code",
   "execution_count": null,
   "metadata": {
    "collapsed": false
   },
   "outputs": [],
   "source": [
    "avesa_ride = tools.Cycling('7C9A5608.FIT')"
   ]
  },
  {
   "cell_type": "code",
   "execution_count": null,
   "metadata": {
    "collapsed": false
   },
   "outputs": [],
   "source": [
    "plt.plot(avesa_ride.data[\"timestamp\"],avesa_ride.data[\"altitude\"])\n",
    "plt.show()"
   ]
  },
  {
   "cell_type": "code",
   "execution_count": null,
   "metadata": {
    "collapsed": false
   },
   "outputs": [],
   "source": [
    "fitfile_path = os.path.join('data', '7C9A5608.FIT')\n",
    "fitfile = FitFile(fitfile_path)\n",
    "fitfile.parse()\n",
    "records = list(fitfile.get_messages(name='record'))\n",
    "r0 = records[0]\n",
    "\n",
    "for field in r0:\n",
    "    print (field.name, field.value, field.units)\n",
    "    if field.name == 'timestamp':\n",
    "        t0 = field.value\n",
    "        \n",
    "\n",
    "time = []\n",
    "cadence  = []\n",
    "heart_rate  = []\n",
    "altitude = []\n",
    "speed = []\n",
    "distance = []\n",
    "\n",
    "for r in records[1:]:\n",
    "    for field in r:\n",
    "        if field.name == 'heart_rate':\n",
    "            heart_rate.append(field.value)\n",
    "        elif field.name == 'timestamp':\n",
    "            t = field.value-t0\n",
    "            time.append(t.total_seconds())\n",
    "        elif field.name == 'altitude':\n",
    "            altitude.append(field.value)\n",
    "        elif field.name == 'speed':\n",
    "            speed.append(field.value)\n",
    "        elif field.name == 'distance':\n",
    "            distance.append(field.value)"
   ]
  },
  {
   "cell_type": "code",
   "execution_count": null,
   "metadata": {
    "collapsed": false
   },
   "outputs": [],
   "source": [
    "plt.plot(time,speed)\n",
    "plt.show()"
   ]
  },
  {
   "cell_type": "code",
   "execution_count": null,
   "metadata": {
    "collapsed": false
   },
   "outputs": [],
   "source": [
    "np.diff(np.array(time))"
   ]
  },
  {
   "cell_type": "code",
   "execution_count": null,
   "metadata": {
    "collapsed": false
   },
   "outputs": [],
   "source": [
    "plt.plot(time,distance)\n",
    "plt.show()"
   ]
  },
  {
   "cell_type": "code",
   "execution_count": null,
   "metadata": {
    "collapsed": true
   },
   "outputs": [],
   "source": []
  }
 ],
 "metadata": {
  "kernelspec": {
   "display_name": "Python 2",
   "language": "python",
   "name": "python2"
  },
  "language_info": {
   "codemirror_mode": {
    "name": "ipython",
    "version": 2
   },
   "file_extension": ".py",
   "mimetype": "text/x-python",
   "name": "python",
   "nbconvert_exporter": "python",
   "pygments_lexer": "ipython2",
   "version": "2.7.10"
  }
 },
 "nbformat": 4,
 "nbformat_minor": 0
}
